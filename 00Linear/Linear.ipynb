{
 "cells": [
  {
   "cell_type": "markdown",
   "metadata": {},
   "source": [
    "# Linear System\n"
   ]
  },
  {
   "cell_type": "markdown",
   "metadata": {},
   "source": [
    "## Discription\n"
   ]
  },
  {
   "cell_type": "markdown",
   "metadata": {},
   "source": [
    "The studied Duffing system follows:\n",
    "\n",
    "$$\n",
    "\\begin{equation}\n",
    "    \\ddot{x} = - p \\hat{x} - d \\hat{\\dot{x}},\n",
    "\\end{equation}\n",
    "$$\n",
    "\n",
    "where $\\hat{x}$ and $\\hat{\\dot{x}}$ refers to delayed(sampled) displacement and velocity.\n"
   ]
  },
  {
   "cell_type": "markdown",
   "metadata": {},
   "source": [
    "## Import Functions and `.ode` Files"
   ]
  },
  {
   "cell_type": "code",
   "execution_count": 1,
   "metadata": {},
   "outputs": [],
   "source": [
    "import numpy as np\n",
    "import pyxpp.pyxpp as pyxpp\n",
    "import matplotlib.pyplot as plt\n",
    "import sys\n",
    "import os\n",
    "\n",
    "sys.path.insert(0,os.path.abspath(\"..\"))\n",
    "from utils import *\n",
    "\n",
    "plt.rcParams[\"font.serif\"] = [\"Times New Roman\"]\n",
    "\n",
    "ODE_Sampling = \"LinearSampling.ode\"\n",
    "ODE_Order1 = \"ApproxSys/LinearApproxOrder1.ode\"\n",
    "ODE_Order3 = \"ApproxSys/LinearApproxOrder3.ode\"\n",
    "ODE_Order20 = \"ApproxSys/LinearApproxOrder20.ode\""
   ]
  },
  {
   "cell_type": "markdown",
   "metadata": {},
   "source": [
    "## Simulation with `XPPaut`"
   ]
  },
  {
   "cell_type": "code",
   "execution_count": 4,
   "metadata": {},
   "outputs": [
    {
     "name": "stdout",
     "output_type": "stream",
     "text": [
      "Illegal character \\\n",
      "Illegal character \\\n",
      "Illegal character \\\n",
      "Illegal character \\\n",
      "Illegal character \\\n",
      "Illegal character \\\n",
      "Illegal character \\\n",
      "Illegal character \\\n",
      "Illegal character \\\n",
      "Illegal character \\\n",
      "Illegal character \\\n",
      "Illegal character \\\n",
      "Illegal character \\\n",
      "Illegal character \\\n",
      "Illegal character \\\n",
      "Illegal character \\\n",
      "Illegal character \\\n",
      "Illegal character \\\n",
      "Illegal character \\\n",
      "Illegal character \\\n",
      "Illegal character \\\n",
      "Illegal character \\\n",
      "Illegal character \\\n",
      "Illegal character \\\n"
     ]
    }
   ],
   "source": [
    "SamplingTime = 0.31\n",
    "SimulationTime = 20\n",
    "Data_Sampling = pyxpp.run(ODE_Sampling, ts=SamplingTime, total=SimulationTime)\n",
    "Data_Order1 = pyxpp.run(ODE_Order1, ts=SamplingTime, total=SimulationTime)\n",
    "Data_Order3 = pyxpp.run(ODE_Order3, ts=SamplingTime, total=SimulationTime)\n",
    "Data_Order20 = pyxpp.run(ODE_Order20, ts=SamplingTime, total=SimulationTime)"
   ]
  },
  {
   "cell_type": "markdown",
   "metadata": {},
   "source": [
    "## Visualization"
   ]
  },
  {
   "cell_type": "code",
   "execution_count": null,
   "metadata": {},
   "outputs": [],
   "source": [
    "plt.plot(Data_Sampling[:, 1], Data_Sampling[:, 2], label=\"Sampling\")\n",
    "plt.plot(Data_Order1[:, 1], Data_Order1[:, 2], label=\"1st Order\")\n",
    "plt.plot(Data_Order3[:, 1], Data_Order3[:, 2], label=\"3rd Order\")\n",
    "plt.plot(Data_Order20[:, 1], Data_Order20[:, 2], label=\"20th Order\")\n",
    "plt.scatter(1, 0, c=\"black\", marker=\"x\", s=200, label=\"Initial Condition\")\n",
    "plt.xlabel(r\"$x$\", fontsize=12)\n",
    "plt.ylabel(r\"$\\dot{x}$\", fontsize=12, rotation=np.pi / 2)\n",
    "plt.title(\"Phase Portrait\", fontsize=15)\n",
    "plt.legend()\n",
    "plt.show()\n",
    "\n",
    "plt.plot(Data_Sampling[:, 0], Data_Sampling[:, 1], label=\"Sampling\")\n",
    "plt.plot(Data_Order1[:, 0], Data_Order1[:, 1], label=\"1st Order\")\n",
    "plt.plot(Data_Order3[:, 0], Data_Order3[:, 1], label=\"3rd Order\")\n",
    "plt.plot(Data_Order20[:, 0], Data_Order20[:, 1], label=\"20th Order\")\n",
    "plt.xlabel(r\"$t$\", fontsize=12)\n",
    "plt.ylabel(r\"$x$\", fontsize=12, rotation=np.pi / 2)\n",
    "plt.title(r\"$x-t$ Diagram\", fontsize=15)\n",
    "plt.legend()\n",
    "plt.show()\n",
    "\n",
    "plt.plot(Data_Sampling[:, 0], Data_Sampling[:, 2], label=\"Sampling\")\n",
    "plt.plot(Data_Order1[:, 0], Data_Order1[:, 2], label=\"1st Order\")\n",
    "plt.plot(Data_Order3[:, 0], Data_Order3[:, 2], label=\"3rd Order\")\n",
    "plt.plot(Data_Order20[:, 0], Data_Order20[:, 2], label=\"20th Order\")\n",
    "plt.xlabel(r\"$t$\", fontsize=12)\n",
    "plt.ylabel(r\"$\\dot{x}$\", fontsize=12, rotation=np.pi / 2)\n",
    "plt.title(r\"$\\dot{x}-t$ Diagram\", fontsize=15)\n",
    "plt.legend()\n",
    "plt.show()"
   ]
  },
  {
   "cell_type": "markdown",
   "metadata": {},
   "source": [
    "## Error"
   ]
  },
  {
   "cell_type": "code",
   "execution_count": null,
   "metadata": {},
   "outputs": [],
   "source": [
    "plt.plot(Data_Sampling[:, 0], Data_Order1[:, 1] - Data_Sampling[:, 1], label=\"1st Order\")\n",
    "plt.plot(Data_Sampling[:, 0], Data_Order3[:, 1] - Data_Sampling[:, 1], label=\"3rd Order\")\n",
    "plt.plot(\n",
    "    Data_Sampling[:, 0], Data_Order20[:, 1] - Data_Sampling[:, 1], label=\"20th Order\"\n",
    ")\n",
    "plt.title(r\"$e-t$ Diagram\", fontsize=15)\n",
    "plt.xlabel(r\"$t$\", fontsize=12)\n",
    "plt.ylabel(r\"$e$\", fontsize=12, rotation=np.pi / 2)\n",
    "plt.legend()\n",
    "plt.show()\n",
    "\n",
    "plt.plot(Data_Sampling[:, 0], Data_Order1[:, 2] - Data_Sampling[:, 2], label=\"1st Order\")\n",
    "plt.plot(Data_Sampling[:, 0], Data_Order3[:, 2] - Data_Sampling[:, 2], label=\"3rd Order\")\n",
    "plt.plot(\n",
    "    Data_Sampling[:, 0], Data_Order20[:, 2] - Data_Sampling[:, 2], label=\"20th Order\"\n",
    ")\n",
    "plt.title(r\"$\\dot{e}-t$ Diagram\", fontsize=15)\n",
    "plt.xlabel(r\"$t$\", fontsize=12)\n",
    "plt.ylabel(r\"$\\dot{e}$\", fontsize=12, rotation=np.pi / 2)\n",
    "plt.legend()\n",
    "plt.show()"
   ]
  },
  {
   "cell_type": "markdown",
   "metadata": {},
   "source": [
    "## 4. Comparasion of MMS"
   ]
  },
  {
   "cell_type": "markdown",
   "metadata": {},
   "source": [
    "Find peaks"
   ]
  },
  {
   "cell_type": "code",
   "execution_count": null,
   "metadata": {},
   "outputs": [],
   "source": [
    "from scipy.signal import find_peaks\n",
    "\n",
    "PeakTime_id, _ = find_peaks(Data_Sampling[:, 1], distance=100)\n",
    "\n",
    "ResponsePeriod = Data_Sampling[PeakTime_id, 0][1] - Data_Sampling[PeakTime_id, 0][0]\n",
    "\n",
    "plt.plot(Data_Sampling[:, 0], Data_Sampling[:, 1])\n",
    "plt.scatter(Data_Sampling[PeakTime_id, 0], Data_Sampling[PeakTime_id, 1], c=\"r\")\n",
    "\n",
    "for i in PeakTime_id:\n",
    "    plt.annotate(\n",
    "        f\"({str(Data_Sampling[i, 0])[:5]},{str(Data_Sampling[i, 1])[:5]})\",\n",
    "        (Data_Sampling[i, 0], Data_Sampling[i, 1]),\n",
    "    )\n",
    "plt.xlabel(r\"$t$\")\n",
    "plt.ylabel(r\"$x$\")\n",
    "plt.grid()\n",
    "# Display first 5 digits\n",
    "plt.title(r\"$x-t$\" + \" Diagram, Period is \" + str(ResponsePeriod)[:5] + \" s\")\n",
    "\n",
    "plt.show()"
   ]
  },
  {
   "cell_type": "markdown",
   "metadata": {},
   "source": [
    "MMS gives a solution at $T_{0} = \\tau = \\frac{2 \\pi}{t_{s}} $ time scale:\n",
    "\n",
    "$$\n",
    "Y_{0} = A_{0} (T_{1}, T_{2}) \\cos{\\left( \\frac{2 k}{3} T_{0} \\right)} + B_{0} (T_{1}, T_{2}) \\sin{\\left( \\frac{2 k}{3} T_{0} \\right)},\n",
    "$$\n",
    "\n",
    "where $k$ is any positive integer, indicating that the period should be\n",
    "\n",
    "$$\n",
    "\\frac{2 \\pi}{\\frac{2 k}{3} T_{0}} = \\frac{2 \\pi}{\\frac{2 k}{3} \\frac{2 \\pi}{t_{s}}} = \\frac{3 t_{s}}{2 k}.\n",
    "$$\n"
   ]
  },
  {
   "cell_type": "code",
   "execution_count": null,
   "metadata": {},
   "outputs": [],
   "source": [
    "ResponsePeriod * 2 / (3 * SamplingTime)"
   ]
  }
 ],
 "metadata": {
  "kernelspec": {
   "display_name": "Python 3",
   "language": "python",
   "name": "python3"
  },
  "language_info": {
   "codemirror_mode": {
    "name": "ipython",
    "version": 3
   },
   "file_extension": ".py",
   "mimetype": "text/x-python",
   "name": "python",
   "nbconvert_exporter": "python",
   "pygments_lexer": "ipython3",
   "version": "3.8.10"
  }
 },
 "nbformat": 4,
 "nbformat_minor": 2
}
